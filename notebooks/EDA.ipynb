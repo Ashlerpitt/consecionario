{
 "cells": [
  {
   "cell_type": "code",
   "execution_count": null,
   "id": "1e57c81b",
   "metadata": {
    "vscode": {
     "languageId": "plaintext"
    }
   },
   "outputs": [],
   "source": [
    "import pandas as pd\n",
    "import plotly.express as px"
   ]
  },
  {
   "cell_type": "code",
   "execution_count": null,
   "id": "066838cf",
   "metadata": {
    "vscode": {
     "languageId": "plaintext"
    }
   },
   "outputs": [],
   "source": [
    "# Cargar el conjunto de datos\n",
    "df = pd.read_csv('../vehicles_us.csv')"
   ]
  },
  {
   "cell_type": "code",
   "execution_count": null,
   "id": "8c394020",
   "metadata": {
    "vscode": {
     "languageId": "plaintext"
    }
   },
   "outputs": [],
   "source": [
    "# Vista general\n",
    "df.info()\n",
    "df.describe()\n",
    "df.head()"
   ]
  },
  {
   "cell_type": "code",
   "execution_count": null,
   "id": "f5a9abae",
   "metadata": {
    "vscode": {
     "languageId": "plaintext"
    }
   },
   "outputs": [],
   "source": [
    "# Valores nulos\n",
    "df.isna().sum()"
   ]
  },
  {
   "cell_type": "code",
   "execution_count": null,
   "id": "ea4b082c",
   "metadata": {
    "vscode": {
     "languageId": "plaintext"
    }
   },
   "outputs": [],
   "source": [
    "# Histograma del odómetro\n",
    "fig_odometer = px.histogram(df, x='odometer', title='Distribución del Odómetro')\n",
    "fig_odometer.show()"
   ]
  },
  {
   "cell_type": "code",
   "execution_count": null,
   "id": "76fb6f8f",
   "metadata": {
    "vscode": {
     "languageId": "plaintext"
    }
   },
   "outputs": [],
   "source": [
    "# Histograma del precio\n",
    "fig_price = px.histogram(df, x='price', title='Distribución del Precio')\n",
    "fig_price.show()"
   ]
  },
  {
   "cell_type": "code",
   "execution_count": null,
   "id": "61121555",
   "metadata": {
    "vscode": {
     "languageId": "plaintext"
    }
   },
   "outputs": [],
   "source": [
    "# Gráfico de dispersión: precio vs. año del modelo\n",
    "fig_scatter = px.scatter(df, x='model_year', y='price', color='type',\n",
    "                         title='Precio vs. Año del Modelo por Tipo de Vehículo')\n",
    "fig_scatter.show()\n"
   ]
  },
  {
   "cell_type": "code",
   "execution_count": null,
   "id": "d66a7f98",
   "metadata": {
    "vscode": {
     "languageId": "plaintext"
    }
   },
   "outputs": [],
   "source": [
    "# Boxplot: tipo de vehículo vs. precio\n",
    "fig_box = px.box(df, x='type', y='price', title='Distribución del Precio por Tipo de Vehículo')\n",
    "fig_box.show()"
   ]
  }
 ],
 "metadata": {
  "language_info": {
   "name": "python"
  }
 },
 "nbformat": 4,
 "nbformat_minor": 5
}
